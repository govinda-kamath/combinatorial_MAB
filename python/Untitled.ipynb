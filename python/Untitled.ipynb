{
 "cells": [
  {
   "cell_type": "code",
   "execution_count": 1,
   "metadata": {
    "collapsed": true
   },
   "outputs": [],
   "source": [
    "import annoy\n",
    "import numpy as np\n",
    "import sklearn\n",
    "from sklearn.neighbors import NearestNeighbors"
   ]
  },
  {
   "cell_type": "code",
   "execution_count": 2,
   "metadata": {},
   "outputs": [
    {
     "name": "stdout",
     "output_type": "stream",
     "text": [
      "[0, 487]\n"
     ]
    }
   ],
   "source": [
    "from annoy import AnnoyIndex\n",
    "import random\n",
    "\n",
    "d = 2\n",
    "n = 1000\n",
    "t = AnnoyIndex(d)  # Length of item vector that will be indexed\n",
    "data = []\n",
    "for i in xrange(n):\n",
    "    v = [random.gauss(0, 1) for z in xrange(d)]\n",
    "    t.add_item(i, v)\n",
    "    data += [v]\n",
    "data = np.array(data)\n",
    "    \n",
    "t.build(10) # 10 trees\n",
    "t.save('test.ann')\n",
    "# ...\n",
    "u = AnnoyIndex(d)\n",
    "u.load('test.ann') # super fast, will just mmap the file\n",
    "print(u.get_nns_by_item(0, 2)) # will find the 1000 nearest neighbors"
   ]
  },
  {
   "cell_type": "code",
   "execution_count": 3,
   "metadata": {},
   "outputs": [
    {
     "name": "stdout",
     "output_type": "stream",
     "text": [
      "[-1.6354233  -0.08952731] [-1.6354233  -0.08952731] 0 0\n",
      "[ 1.52150333  0.54407012] [-0.99553859 -0.06475217] 1 487\n"
     ]
    }
   ],
   "source": [
    "answer = u.get_nns_by_item(0, n)\n",
    "for i in range(0,2):\n",
    "    item1 = np.array(t.get_item_vector(i)).flatten()\n",
    "    item2 = np.array(t.get_item_vector(answer[i])).flatten()\n",
    "    print item1, item2, i, answer[i]"
   ]
  },
  {
   "cell_type": "code",
   "execution_count": 5,
   "metadata": {},
   "outputs": [],
   "source": [
    "nbrs = NearestNeighbors(n_neighbors=2, algorithm='auto').fit(data)"
   ]
  },
  {
   "cell_type": "code",
   "execution_count": 7,
   "metadata": {},
   "outputs": [],
   "source": [
    "distances, indices = nbrs.kneighbors(data)"
   ]
  },
  {
   "cell_type": "code",
   "execution_count": 8,
   "metadata": {},
   "outputs": [
    {
     "data": {
      "text/plain": [
       "array([[  0, 402],\n",
       "       [  1, 779],\n",
       "       [  2, 911],\n",
       "       ..., \n",
       "       [997, 511],\n",
       "       [998, 916],\n",
       "       [999, 626]])"
      ]
     },
     "execution_count": 8,
     "metadata": {},
     "output_type": "execute_result"
    }
   ],
   "source": [
    "indices"
   ]
  },
  {
   "cell_type": "code",
   "execution_count": null,
   "metadata": {
    "collapsed": true
   },
   "outputs": [],
   "source": []
  }
 ],
 "metadata": {
  "kernelspec": {
   "display_name": "Python 2",
   "language": "python",
   "name": "python2"
  },
  "language_info": {
   "codemirror_mode": {
    "name": "ipython",
    "version": 2
   },
   "file_extension": ".py",
   "mimetype": "text/x-python",
   "name": "python",
   "nbconvert_exporter": "python",
   "pygments_lexer": "ipython2",
   "version": "2.7.6"
  }
 },
 "nbformat": 4,
 "nbformat_minor": 2
}
