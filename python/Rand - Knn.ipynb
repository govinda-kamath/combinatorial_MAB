{
 "cells": [
  {
   "cell_type": "code",
   "execution_count": 16,
   "metadata": {},
   "outputs": [],
   "source": [
    "import numpy as np\n",
    "dir = '../experiments_rand/knn/'\n",
    "ideal_answer= [0,1,2,3,4]"
   ]
  },
  {
   "cell_type": "code",
   "execution_count": 50,
   "metadata": {},
   "outputs": [],
   "source": [
    "def data(samplesize=120):\n",
    "    file = dir+'s_'+str(samplesize)+'_summary'\n",
    "    array = np.loadtxt(file, delimiter=',')\n",
    "    array.sort(axis=1)\n",
    "    return array\n",
    "\n",
    "def exact_accuracy(array):\n",
    "    ideal_answer= [0,1,2,3,4]\n",
    "    total = array.shape[0]\n",
    "    correct = 0\n",
    "    for row in array:\n",
    "        correct+= np.array_equal(row, ideal_answer)\n",
    "    return (correct/(total+0.0))\n",
    "\n",
    "def accuracy(array):\n",
    "    total = array.shape[0]\n",
    "    k = 5\n",
    "    correct = np.zeros(5)+0.0\n",
    "    for row in array:\n",
    "        for i in range(k):\n",
    "            correct[i] += np.any(row == i )\n",
    "    return correct/total"
   ]
  },
  {
   "cell_type": "code",
   "execution_count": 58,
   "metadata": {},
   "outputs": [
    {
     "name": "stdout",
     "output_type": "stream",
     "text": [
      "120 0.002\n",
      "240 0.016\n",
      "360 0.033\n",
      "480 0.039\n",
      "600 0.062\n",
      "720 0.06832298136645963\n",
      "840 0.097\n",
      "960 0.098\n",
      "1080 0.11\n",
      "1200 0.126\n",
      "Partial accuracy\n",
      "120 [0.531 0.457 0.386 0.352 0.328]\n",
      "240 [0.723 0.595 0.483 0.403 0.333]\n",
      "360 [0.801 0.659 0.553 0.437 0.353]\n",
      "480 [0.829 0.746 0.584 0.47  0.368]\n",
      "600 [0.871 0.764 0.595 0.524 0.405]\n",
      "720 [0.89130435 0.79606625 0.65942029 0.50724638 0.4057971 ]\n",
      "840 [0.931 0.825 0.662 0.551 0.449]\n",
      "960 [0.929 0.834 0.7   0.553 0.477]\n",
      "1080 [0.939 0.844 0.716 0.599 0.444]\n",
      "1200 [0.946 0.867 0.73  0.614 0.47 ]\n"
     ]
    }
   ],
   "source": [
    "pulls = np.arange(120,1221,120)\n",
    "for pull in pulls:\n",
    "    print(pull, exact_accuracy(data(pull)))\n",
    "\n",
    "print (\"Partial accuracy\")\n",
    "for pull in pulls:\n",
    "    print(pull, accuracy(data(pull)))"
   ]
  },
  {
   "cell_type": "code",
   "execution_count": null,
   "metadata": {},
   "outputs": [],
   "source": []
  }
 ],
 "metadata": {
  "kernelspec": {
   "display_name": "Python 3",
   "language": "python",
   "name": "python3"
  },
  "language_info": {
   "codemirror_mode": {
    "name": "ipython",
    "version": 3
   },
   "file_extension": ".py",
   "mimetype": "text/x-python",
   "name": "python",
   "nbconvert_exporter": "python",
   "pygments_lexer": "ipython3",
   "version": "3.7.1"
  }
 },
 "nbformat": 4,
 "nbformat_minor": 2
}
